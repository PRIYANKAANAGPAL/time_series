{
 "cells": [
  {
   "cell_type": "code",
   "execution_count": 1,
   "id": "7cd243e3",
   "metadata": {},
   "outputs": [
    {
     "name": "stdout",
     "output_type": "stream",
     "text": [
      "Requirement already satisfied: statsmodels in /Users/priyankanagpal/opt/anaconda3/lib/python3.9/site-packages (0.14.2)\n",
      "Requirement already satisfied: numpy>=1.22.3 in /Users/priyankanagpal/opt/anaconda3/lib/python3.9/site-packages (from statsmodels) (1.26.4)\n",
      "Requirement already satisfied: scipy!=1.9.2,>=1.8 in /Users/priyankanagpal/opt/anaconda3/lib/python3.9/site-packages (from statsmodels) (1.13.0)\n",
      "Requirement already satisfied: pandas!=2.1.0,>=1.4 in /Users/priyankanagpal/opt/anaconda3/lib/python3.9/site-packages (from statsmodels) (1.4.2)\n",
      "Requirement already satisfied: patsy>=0.5.6 in /Users/priyankanagpal/opt/anaconda3/lib/python3.9/site-packages (from statsmodels) (0.5.6)\n",
      "Requirement already satisfied: packaging>=21.3 in /Users/priyankanagpal/opt/anaconda3/lib/python3.9/site-packages (from statsmodels) (24.1)\n",
      "Requirement already satisfied: python-dateutil>=2.8.1 in /Users/priyankanagpal/opt/anaconda3/lib/python3.9/site-packages (from pandas!=2.1.0,>=1.4->statsmodels) (2.8.2)\n",
      "Requirement already satisfied: pytz>=2020.1 in /Users/priyankanagpal/opt/anaconda3/lib/python3.9/site-packages (from pandas!=2.1.0,>=1.4->statsmodels) (2021.3)\n",
      "Requirement already satisfied: six in /Users/priyankanagpal/opt/anaconda3/lib/python3.9/site-packages (from patsy>=0.5.6->statsmodels) (1.16.0)\n",
      "Note: you may need to restart the kernel to use updated packages.\n"
     ]
    }
   ],
   "source": [
    "import pandas as pd \n",
    "import numpy as np\n",
    "import matplotlib.pyplot as plt\n",
    "%pip install statsmodels --upgrade \n",
    "from statsmodels.tsa.ar_model import AutoReg"
   ]
  },
  {
   "cell_type": "code",
   "execution_count": 3,
   "id": "b5f2d989",
   "metadata": {},
   "outputs": [
    {
     "data": {
      "text/html": [
       "<div>\n",
       "<style scoped>\n",
       "    .dataframe tbody tr th:only-of-type {\n",
       "        vertical-align: middle;\n",
       "    }\n",
       "\n",
       "    .dataframe tbody tr th {\n",
       "        vertical-align: top;\n",
       "    }\n",
       "\n",
       "    .dataframe thead th {\n",
       "        text-align: right;\n",
       "    }\n",
       "</style>\n",
       "<table border=\"1\" class=\"dataframe\">\n",
       "  <thead>\n",
       "    <tr style=\"text-align: right;\">\n",
       "      <th></th>\n",
       "      <th>Date</th>\n",
       "      <th>Temp</th>\n",
       "    </tr>\n",
       "  </thead>\n",
       "  <tbody>\n",
       "    <tr>\n",
       "      <th>0</th>\n",
       "      <td>1981-01-01</td>\n",
       "      <td>20.7</td>\n",
       "    </tr>\n",
       "    <tr>\n",
       "      <th>1</th>\n",
       "      <td>1981-01-02</td>\n",
       "      <td>17.9</td>\n",
       "    </tr>\n",
       "    <tr>\n",
       "      <th>2</th>\n",
       "      <td>1981-01-03</td>\n",
       "      <td>18.8</td>\n",
       "    </tr>\n",
       "    <tr>\n",
       "      <th>3</th>\n",
       "      <td>1981-01-04</td>\n",
       "      <td>14.6</td>\n",
       "    </tr>\n",
       "    <tr>\n",
       "      <th>4</th>\n",
       "      <td>1981-01-05</td>\n",
       "      <td>15.8</td>\n",
       "    </tr>\n",
       "  </tbody>\n",
       "</table>\n",
       "</div>"
      ],
      "text/plain": [
       "         Date  Temp\n",
       "0  1981-01-01  20.7\n",
       "1  1981-01-02  17.9\n",
       "2  1981-01-03  18.8\n",
       "3  1981-01-04  14.6\n",
       "4  1981-01-05  15.8"
      ]
     },
     "execution_count": 3,
     "metadata": {},
     "output_type": "execute_result"
    }
   ],
   "source": [
    "df = pd.read_csv(\"dmt2.csv\")\n",
    "df.shape\n",
    "df.head()"
   ]
  },
  {
   "cell_type": "code",
   "execution_count": 4,
   "id": "01a11815",
   "metadata": {},
   "outputs": [
    {
     "data": {
      "text/plain": [
       "0    20.7\n",
       "1    17.9\n",
       "2    18.8\n",
       "3    14.6\n",
       "4    15.8\n",
       "Name: Temp, dtype: float64"
      ]
     },
     "execution_count": 4,
     "metadata": {},
     "output_type": "execute_result"
    }
   ],
   "source": [
    "temp = df.Temp\n",
    "# or temp = df[\"Temp\"]\n",
    "temp.head()"
   ]
  },
  {
   "cell_type": "code",
   "execution_count": 5,
   "id": "17bbd280",
   "metadata": {},
   "outputs": [
    {
     "data": {
      "text/plain": [
       "Index(['Date', 'Temp'], dtype='object')"
      ]
     },
     "execution_count": 5,
     "metadata": {},
     "output_type": "execute_result"
    }
   ],
   "source": [
    "df.columns"
   ]
  },
  {
   "cell_type": "code",
   "execution_count": 9,
   "id": "b23ea69e",
   "metadata": {},
   "outputs": [
    {
     "name": "stdout",
     "output_type": "stream",
     "text": [
      "float64\n",
      "object\n"
     ]
    }
   ],
   "source": [
    "print(df['Temp'].dtype)\n",
    "print(df['Date'].dtype)"
   ]
  },
  {
   "cell_type": "code",
   "execution_count": 8,
   "id": "8c8ff959",
   "metadata": {},
   "outputs": [
    {
     "name": "stdout",
     "output_type": "stream",
     "text": [
      "Date     0\n",
      "Temp    11\n",
      "dtype: int64\n"
     ]
    }
   ],
   "source": [
    "print(df.isnull().sum())"
   ]
  },
  {
   "cell_type": "code",
   "execution_count": 10,
   "id": "985ed29f",
   "metadata": {},
   "outputs": [],
   "source": [
    "df['Temp'].fillna(df['Temp'].mean(), inplace=True)\n",
    "# or df.dropna(subset=['Temp'], inplace=True)"
   ]
  },
  {
   "cell_type": "code",
   "execution_count": 11,
   "id": "43a2a78e",
   "metadata": {},
   "outputs": [],
   "source": [
    "# Replace inf values with NaN and then drop/fill NaN values\n",
    "df.replace([np.inf, -np.inf], np.nan, inplace=True)\n",
    "df.dropna(subset=['Temp'], inplace=True)\n",
    "# Alternatively, fill NaN values if necessary\n",
    "# df['Temp'].fillna(df['Temp'].mean(), inplace=True)"
   ]
  },
  {
   "cell_type": "code",
   "execution_count": 12,
   "id": "7b321a7e",
   "metadata": {},
   "outputs": [
    {
     "name": "stdout",
     "output_type": "stream",
     "text": [
      "1.) ADF TEST : -4.3668810104667175\n",
      "2.) P VALUE  : 0.0003395603321784679\n",
      "3.) NO OF LAGS  : 19\n",
      "4.) NO OF OBSERVATIONS USED : 3632\n",
      "5.) CRITICAL VALUES  :\n",
      "\t 1% : -3.4321517422129952\n",
      "\t 5% : -2.8623361092467525\n",
      "\t 10% : -2.567193781223316\n"
     ]
    }
   ],
   "source": [
    "from statsmodels.tsa.stattools import adfuller \n",
    "dftest= adfuller(df[\"Temp\"] , autolag = \"AIC\")\n",
    "print(\"1.) ADF TEST :\", dftest[0])\n",
    "print(\"2.) P VALUE  :\", dftest[1])\n",
    "print(\"3.) NO OF LAGS  :\", dftest[2])\n",
    "print(\"4.) NO OF OBSERVATIONS USED :\", dftest[3])\n",
    "print(\"5.) CRITICAL VALUES  :\")\n",
    "for key , value in dftest[4].items():\n",
    "    print(\"\\t\" , key , \":\" , value)"
   ]
  },
  {
   "cell_type": "code",
   "execution_count": 13,
   "id": "fc04a58d",
   "metadata": {},
   "outputs": [
    {
     "data": {
      "image/png": "[encoded data removed]",
      "text/plain": [
       "<Figure size 1080x360 with 2 Axes>"
      ]
     },
     "metadata": {
      "needs_background": "light"
     },
     "output_type": "display_data"
    }
   ],
   "source": [
    "from statsmodels.graphics.tsaplots import plot_acf, plot_pacf\n",
    "# Plot the ACF and PACF\n",
    "fig, axes = plt.subplots(1, 2, figsize=(15,5))\n",
    "\n",
    "# Plot ACF\n",
    "plot_acf(df['Temp'], lags=25, ax=axes[0])\n",
    "axes[0].set_title('Autocorrelation Function (ACF)')\n",
    "\n",
    "# Plot PACF\n",
    "plot_pacf(df['Temp'], lags=25, ax=axes[1], method='ywm')\n",
    "axes[1].set_title('Partial Autocorrelation Function (PACF)')\n",
    "\n",
    "plt.show()"
   ]
  },
  {
   "cell_type": "code",
   "execution_count": 14,
   "id": "df396728",
   "metadata": {},
   "outputs": [],
   "source": [
    "# reserve last 10 days as testing set \n",
    "train = temp[:len(temp) -7]\n",
    "test = temp[len(temp) -7:]"
   ]
  },
  {
   "cell_type": "code",
   "execution_count": 15,
   "id": "a213deac",
   "metadata": {},
   "outputs": [],
   "source": [
    "from statsmodels.tsa.ar_model import AutoReg\n",
    "model = AutoReg(train , lags=10).fit()"
   ]
  },
  {
   "cell_type": "code",
   "execution_count": 16,
   "id": "118fe2d4",
   "metadata": {},
   "outputs": [
    {
     "name": "stdout",
     "output_type": "stream",
     "text": [
      "                            AutoReg Model Results                             \n",
      "==============================================================================\n",
      "Dep. Variable:                   Temp   No. Observations:                 3645\n",
      "Model:                    AutoReg(10)   Log Likelihood               -8371.062\n",
      "Method:               Conditional MLE   S.D. of innovations              2.420\n",
      "Date:                Fri, 05 Jul 2024   AIC                          16766.123\n",
      "Time:                        13:01:40   BIC                          16840.504\n",
      "Sample:                            10   HQIC                         16792.618\n",
      "                                 3645                                         \n",
      "==============================================================================\n",
      "                 coef    std err          z      P>|z|      [0.025      0.975]\n",
      "------------------------------------------------------------------------------\n",
      "const          0.9404      0.143      6.578      0.000       0.660       1.221\n",
      "Temp.L1        0.5896      0.017     35.563      0.000       0.557       0.622\n",
      "Temp.L2       -0.0709      0.019     -3.690      0.000      -0.109      -0.033\n",
      "Temp.L3        0.0664      0.019      3.451      0.001       0.029       0.104\n",
      "Temp.L4        0.0537      0.019      2.791      0.005       0.016       0.091\n",
      "Temp.L5        0.0511      0.019      2.655      0.008       0.013       0.089\n",
      "Temp.L6        0.0437      0.019      2.269      0.023       0.006       0.081\n",
      "Temp.L7        0.0599      0.019      3.110      0.002       0.022       0.098\n",
      "Temp.L8        0.0209      0.019      1.085      0.278      -0.017       0.059\n",
      "Temp.L9        0.0601      0.019      3.129      0.002       0.022       0.098\n",
      "Temp.L10       0.0404      0.017      2.443      0.015       0.008       0.073\n",
      "                                    Roots                                     \n",
      "==============================================================================\n",
      "                   Real          Imaginary           Modulus         Frequency\n",
      "------------------------------------------------------------------------------\n",
      "AR.1             1.0272           -0.0000j            1.0272           -0.0000\n",
      "AR.2             0.9859           -0.7794j            1.2568           -0.1065\n",
      "AR.3             0.9859           +0.7794j            1.2568            0.1065\n",
      "AR.4             0.4165           -1.2701j            1.3367           -0.1996\n",
      "AR.5             0.4165           +1.2701j            1.3367            0.1996\n",
      "AR.6            -0.4370           -1.3366j            1.4062           -0.3003\n",
      "AR.7            -0.4370           +1.3366j            1.4062            0.3003\n",
      "AR.8            -1.3113           -0.8048j            1.5386           -0.4124\n",
      "AR.9            -1.3113           +0.8048j            1.5386            0.4124\n",
      "AR.10           -1.8220           -0.0000j            1.8220           -0.5000\n",
      "------------------------------------------------------------------------------\n"
     ]
    }
   ],
   "source": [
    "print(model.summary())"
   ]
  },
  {
   "cell_type": "code",
   "execution_count": 17,
   "id": "27595656",
   "metadata": {},
   "outputs": [],
   "source": [
    "pred = model.predict(start=len(train) , end = len(temp)-1 , dynamic = False)"
   ]
  },
  {
   "cell_type": "code",
   "execution_count": 24,
   "id": "9d119865",
   "metadata": {},
   "outputs": [
    {
     "name": "stdout",
     "output_type": "stream",
     "text": [
      "3645    11.541843\n",
      "3646    12.637557\n",
      "3647    13.057582\n",
      "3648    13.020602\n",
      "3649    12.854722\n",
      "3650    12.688735\n",
      "3651    12.440215\n",
      "dtype: float64\n"
     ]
    },
    {
     "data": {
      "image/png": "[encoded data removed]",
      "text/plain": [
       "<Figure size 432x288 with 1 Axes>"
      ]
     },
     "metadata": {
      "needs_background": "light"
     },
     "output_type": "display_data"
    }
   ],
   "source": [
    "plt.plot(pred , label='Train')\n",
    "plt.plot(test, color = 'red' , label='Test')\n",
    "plt.legend()\n",
    "print(pred)"
   ]
  },
  {
   "cell_type": "markdown",
   "id": "58d546ec",
   "metadata": {},
   "source": [
    "# Calculate error "
   ]
  },
  {
   "cell_type": "code",
   "execution_count": 27,
   "id": "e2379ea6",
   "metadata": {},
   "outputs": [
    {
     "name": "stdout",
     "output_type": "stream",
     "text": [
      "1.5453655496486745\n"
     ]
    }
   ],
   "source": [
    "from math import sqrt\n",
    "from sklearn.metrics import mean_squared_error \n",
    "rmse = sqrt(mean_squared_error(test,pred))\n",
    "print(rmse)"
   ]
  },
  {
   "cell_type": "markdown",
   "id": "099a5474",
   "metadata": {},
   "source": [
    "# Future prediction"
   ]
  },
  {
   "cell_type": "code",
   "execution_count": 30,
   "id": "5cc0b495",
   "metadata": {},
   "outputs": [
    {
     "name": "stdout",
     "output_type": "stream",
     "text": [
      "The future prediction for the next week\n",
      "3653    12.312107\n",
      "3654    12.198146\n",
      "3655    12.242804\n",
      "3656    12.307866\n",
      "3657    12.319153\n",
      "3658    12.281825\n",
      "3659    12.232087\n",
      "dtype: float64\n",
      "Number of Predictions Made: \t 7\n"
     ]
    }
   ],
   "source": [
    "pred_future=model.predict(start=len (temp)+1, end=len (temp) +7, dynamic=False)\n",
    "print(\"The future prediction for the next week\")\n",
    "print (pred_future)\n",
    "print('Number of Predictions Made: \\t',len (pred_future))"
   ]
  },
  {
   "cell_type": "code",
   "execution_count": null,
   "id": "53890bcc",
   "metadata": {},
   "outputs": [],
   "source": []
  }
 ],
 "metadata": {
  "kernelspec": {
   "display_name": "Python 3 (ipykernel)",
   "language": "python",
   "name": "python3"
  },
  "language_info": {
   "codemirror_mode": {
    "name": "ipython",
    "version": 3
   },
   "file_extension": ".py",
   "mimetype": "text/x-python",
   "name": "python",
   "nbconvert_exporter": "python",
   "pygments_lexer": "ipython3",
   "version": "3.9.12"
  }
 },
 "nbformat": 4,
 "nbformat_minor": 5
}
